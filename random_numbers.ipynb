{
 "cells": [
  {
   "cell_type": "code",
   "execution_count": 3,
   "id": "6d06a542",
   "metadata": {},
   "outputs": [],
   "source": [
    "# Import the random module.\n",
    "import random"
   ]
  },
  {
   "cell_type": "code",
   "execution_count": 15,
   "id": "4726d009",
   "metadata": {},
   "outputs": [
    {
     "data": {
      "text/plain": [
       "0.046301840368363156"
      ]
     },
     "execution_count": 15,
     "metadata": {},
     "output_type": "execute_result"
    }
   ],
   "source": [
    "#Using the random() function, we can get a single floating-point decimal number between 0 and 1.0.\n",
    "random.random()"
   ]
  },
  {
   "cell_type": "code",
   "execution_count": 16,
   "id": "4c35aae6",
   "metadata": {},
   "outputs": [
    {
     "data": {
      "text/plain": [
       "54"
      ]
     },
     "execution_count": 16,
     "metadata": {},
     "output_type": "execute_result"
    }
   ],
   "source": [
    "#randint is short for \"random integer.\" In the second cell, after random., type randint(-90, 90), as shown below.\n",
    "random.randint(-90, 90)"
   ]
  },
  {
   "cell_type": "code",
   "execution_count": null,
   "id": "dce41449",
   "metadata": {},
   "outputs": [],
   "source": [
    "#The random() function may help us. This function returns only a floating-point decimal number between 0 and 1.0. If we combine random.randint(-90, 89) and random.random() to generate a floating-point decimal between –90 and 90, we can generate a random latitude. We changed the lower range of the randint() because we want whole numbers up to 89, so when we add the floating-point decimal number, \n",
    "#we'll generate latitudes between –89.99999 and 89.99999."
   ]
  },
  {
   "cell_type": "code",
   "execution_count": 17,
   "id": "950ba2f9",
   "metadata": {},
   "outputs": [],
   "source": [
    "#Example of generating 10 random latitudes\n",
    "x = 1\n",
    "latitudes = []\n",
    "while x < 11:\n",
    "    random_lat = random.randint(-90, 89) + random.random()\n",
    "    latitudes.append(random_lat)\n",
    "    x = x+1"
   ]
  },
  {
   "cell_type": "code",
   "execution_count": 18,
   "id": "f00f1d39",
   "metadata": {},
   "outputs": [
    {
     "data": {
      "text/plain": [
       "[18.65841173502831,\n",
       " 15.315279135881548,\n",
       " 10.102186820327331,\n",
       " 0.760780898215617,\n",
       " -50.28609788229867,\n",
       " -85.28289463690301,\n",
       " -51.99314822630378,\n",
       " 84.22906131713303,\n",
       " -88.88949593742905,\n",
       " -53.7489539648146]"
      ]
     },
     "execution_count": 18,
     "metadata": {},
     "output_type": "execute_result"
    }
   ],
   "source": [
    "latitudes"
   ]
  },
  {
   "cell_type": "code",
   "execution_count": null,
   "id": "9ceb2cb3",
   "metadata": {},
   "outputs": [],
   "source": [
    "#Next, we would have to use a similar method to get random longitudes between –180 and 180, \n",
    "#which we can then pair with the latitudes. This looks promising, but the code to generate the latitudes above is a little long."
   ]
  },
  {
   "cell_type": "code",
   "execution_count": 19,
   "id": "13bb10f7",
   "metadata": {},
   "outputs": [
    {
     "data": {
      "text/plain": [
       "-34"
      ]
     },
     "execution_count": 19,
     "metadata": {},
     "output_type": "execute_result"
    }
   ],
   "source": [
    "#The randrange() Function\n",
    "random.randrange(-90, 90, step=1) "
   ]
  },
  {
   "cell_type": "code",
   "execution_count": 20,
   "id": "7f2fabba",
   "metadata": {},
   "outputs": [
    {
     "data": {
      "text/plain": [
       "78"
      ]
     },
     "execution_count": 20,
     "metadata": {},
     "output_type": "execute_result"
    }
   ],
   "source": [
    "random.randrange(-90, 90, step=3) "
   ]
  },
  {
   "cell_type": "code",
   "execution_count": 21,
   "id": "a1b8048c",
   "metadata": {},
   "outputs": [
    {
     "data": {
      "text/plain": [
       "58.111890570517744"
      ]
     },
     "execution_count": 21,
     "metadata": {},
     "output_type": "execute_result"
    }
   ],
   "source": [
    "#The uniform() Function\n",
    "#The uniform() function will allow us to generate a floating-point decimal number between two given numbers inside the parentheses.\n",
    "random.uniform(-90, 90)"
   ]
  },
  {
   "cell_type": "code",
   "execution_count": null,
   "id": "779b6b4e",
   "metadata": {},
   "outputs": [],
   "source": [
    "#The NumPy and random Modules\n",
    "#One way to generate more than a thousand latitudes and longitudes is to chain the NumPy module to the random module to create an array of latitudes or longitudes between the lowest and highest values, or –90° and 90°, and –180° and 180°, respectively. To accomplish this, we'll use the uniform() function from the random module."
   ]
  },
  {
   "cell_type": "code",
   "execution_count": 22,
   "id": "8ddc7538",
   "metadata": {},
   "outputs": [],
   "source": [
    "#Recall that the NumPy module is a numerical mathematics library that can be used to make arrays or matrices of numbers.\n",
    "# Import the NumPy module.\n",
    "import numpy as np"
   ]
  },
  {
   "cell_type": "code",
   "execution_count": 23,
   "id": "7794221d",
   "metadata": {},
   "outputs": [
    {
     "data": {
      "text/plain": [
       "9.07260588629704"
      ]
     },
     "execution_count": 23,
     "metadata": {},
     "output_type": "execute_result"
    }
   ],
   "source": [
    "np.random.uniform(-90,90)"
   ]
  },
  {
   "cell_type": "code",
   "execution_count": 24,
   "id": "870b7c78",
   "metadata": {},
   "outputs": [
    {
     "data": {
      "text/plain": [
       "array([-28.36101961, -56.98511846,   1.57697135,  35.44838198,\n",
       "        24.04172098,  15.80401619,  41.26815137, -16.22431787,\n",
       "         1.63791761,  29.23541413, -66.7252119 , -18.55394985,\n",
       "        15.64027159,  53.00146241,  66.86868964, -45.12486402,\n",
       "        75.86089857, -86.10157975,  71.65872495,  64.74033399,\n",
       "        89.48055608, -51.11252602,  44.24270285,  38.2416993 ,\n",
       "       -20.66845864,  75.8138246 ,  34.35252787,  -0.2125889 ,\n",
       "       -33.79877534,  -1.93613211,  52.32302192, -37.93061218,\n",
       "        74.66051213, -34.08717842,  71.88826595, -69.81493497,\n",
       "        23.84428877,  49.03408572, -70.664792  ,  50.29558181,\n",
       "       -16.76767929,  77.78629184, -62.91664812, -76.3503252 ,\n",
       "        24.17636407, -72.273053  ,  56.49512823,  45.21470805,\n",
       "       -29.36484711,  55.91480336])"
      ]
     },
     "execution_count": 24,
     "metadata": {},
     "output_type": "execute_result"
    }
   ],
   "source": [
    "#To generate more than one floating-point decimal number between –90 and 90, we can add the size parameter when we use the NumPy module and set that equal to any whole number.\n",
    "np.random.uniform(-90.000, 90.000, size=50)"
   ]
  },
  {
   "cell_type": "code",
   "execution_count": 27,
   "id": "5145f8ca",
   "metadata": {},
   "outputs": [],
   "source": [
    "# Import timeit.\n",
    "import timeit"
   ]
  },
  {
   "cell_type": "code",
   "execution_count": 28,
   "id": "a721c4ff",
   "metadata": {},
   "outputs": [
    {
     "name": "stdout",
     "output_type": "stream",
     "text": [
      "21.4 µs ± 226 ns per loop (mean ± std. dev. of 7 runs, 10000 loops each)\n"
     ]
    }
   ],
   "source": [
    "%timeit np.random.uniform(-90.000, 90.000, size=1500)"
   ]
  },
  {
   "cell_type": "code",
   "execution_count": 29,
   "id": "fa3808e7",
   "metadata": {},
   "outputs": [
    {
     "name": "stdout",
     "output_type": "stream",
     "text": [
      "2.65 ms ± 46.5 µs per loop (mean ± std. dev. of 7 runs, 100 loops each)\n"
     ]
    }
   ],
   "source": [
    "def latitudes(size):\n",
    "    latitudes = []\n",
    "    x = 0\n",
    "    while x < (size):\n",
    "        random_lat = random.randint(-90, 90) + random.random()\n",
    "        latitudes.append(random_lat)\n",
    "        x += 1\n",
    "    return latitudes\n",
    "# Call the function with 1500.\n",
    "%timeit latitudes(1500)"
   ]
  },
  {
   "cell_type": "code",
   "execution_count": null,
   "id": "2ed5bc86",
   "metadata": {},
   "outputs": [],
   "source": []
  }
 ],
 "metadata": {
  "kernelspec": {
   "display_name": "PythonData",
   "language": "python",
   "name": "pythondata"
  },
  "language_info": {
   "codemirror_mode": {
    "name": "ipython",
    "version": 3
   },
   "file_extension": ".py",
   "mimetype": "text/x-python",
   "name": "python",
   "nbconvert_exporter": "python",
   "pygments_lexer": "ipython3",
   "version": "3.7.10"
  }
 },
 "nbformat": 4,
 "nbformat_minor": 5
}
